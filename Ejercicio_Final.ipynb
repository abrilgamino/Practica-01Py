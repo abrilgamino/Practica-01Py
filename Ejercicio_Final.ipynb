{
  "nbformat": 4,
  "nbformat_minor": 0,
  "metadata": {
    "colab": {
      "name": "Ejercicio-Final.ipynb",
      "provenance": [],
      "collapsed_sections": [],
      "authorship_tag": "ABX9TyPO0zw/uBNS3NTwNDzIF7f7",
      "include_colab_link": true
    },
    "kernelspec": {
      "name": "python3",
      "display_name": "Python 3"
    },
    "language_info": {
      "name": "python"
    }
  },
  "cells": [
    {
      "cell_type": "markdown",
      "metadata": {
        "id": "view-in-github",
        "colab_type": "text"
      },
      "source": [
        "<a href=\"https://colab.research.google.com/github/abrilgamino/Practica-01Py/blob/main/Ejercicio_Final.ipynb\" target=\"_parent\"><img src=\"https://colab.research.google.com/assets/colab-badge.svg\" alt=\"Open In Colab\"/></a>"
      ]
    },
    {
      "cell_type": "code",
      "execution_count": null,
      "metadata": {
        "colab": {
          "base_uri": "https://localhost:8080/"
        },
        "id": "08COTjwsT-ex",
        "outputId": "616d54b9-d8a4-4a67-f219-2e65cc0084e1"
      },
      "outputs": [
        {
          "name": "stdout",
          "output_type": "stream",
          "text": [
            "Bienvenido al acceso de usuarios\n",
            "\n",
            "********************************\n",
            "¿Qué deseas hacer? \n",
            "Selecciona una opción\n",
            "  1) Agregar\n",
            "  2) Mostrar\n",
            "  3) Modificar\n",
            "  4) Buscar\n",
            "  5) Elimar\n",
            "  6) Salir\n",
            "5\n",
            "Ingrese el correo a eliminar:a\n",
            "\n",
            "********************************\n",
            "¿Qué deseas hacer? \n",
            "Selecciona una opción\n",
            "  1) Agregar\n",
            "  2) Mostrar\n",
            "  3) Modificar\n",
            "  4) Buscar\n",
            "  5) Elimar\n",
            "  6) Salir\n",
            "6\n"
          ]
        }
      ],
      "source": [
        "class Usuarios:\n",
        "  def __init__ (self, correo, contrasena):\n",
        "    self.correo = correo\n",
        "    self.contrasena = contrasena\n",
        "  \n",
        "  def __str__(self):\n",
        "    return \"Usuario: {}\\nContraseña: {}\".format(self.correo, self.contrasena)\n",
        "\n",
        "correo = ['a','michelle2909@live.com', 'am.gamino@ebc.edu.mx', 'cp_tomas@hotmail.com', 'marian123@gmail.com']\n",
        "contrasena = ['jiji','123tomaterojo.$', 'Caminolento09', 'Santiago97', 'megustaelqueso9@']\n",
        "usuarios=[]\n",
        "z=0\n",
        "for n in correo:\n",
        "  U = Usuarios(n, contrasena[z])\n",
        "  usuarios.append(U)\n",
        "  z+=1\n",
        "\n",
        "  # nuevo (self, correo, contrasena):\n",
        "   # self.correo= input('Ingrese el usuario: ')\n",
        "   # self.contrasena = input('Establezca una contraseña: ')\n",
        "    #return 'Se agrego el usuario {} y su contraseña es: {}'.format(self.correo, self.contrasena)\n",
        "\n",
        "print('Bienvenido al acceso de usuarios')\n",
        "while (True):\n",
        "  print(\"\"\"\\n********************************\\n¿Qué deseas hacer? \\nSelecciona una opción\n",
        "  1) Agregar\n",
        "  2) Mostrar\n",
        "  3) Modificar\n",
        "  4) Buscar\n",
        "  5) Elimar\n",
        "  6) Salir\"\"\")\n",
        "  opcion = input()\n",
        "  busqueda= \"\"\n",
        "  if opcion == \"1\":\n",
        "    correoAux = input('Ingrese el usuario: ')\n",
        "    contrasenaAux = input('Ingrese la contraseña: ')\n",
        "    C = Usuarios (correoAux, contrasenaAux)\n",
        "    usuarios.append(C)\n",
        "  elif opcion == \"2\":\n",
        "    for U in usuarios:\n",
        "      print(U)\n",
        "  elif opcion == \"3\":\n",
        "    busqueda= input('Ingrese el correo a modificar:')\n",
        "    for n in range(len(correo)):\n",
        "      if usuarios[n].correo == busqueda:\n",
        "        usuarios[n].correo = input('Ingresa el nuevo correo')\n",
        "  elif opcion == \"4\":\n",
        "     busqueda= input('Ingrese el correo a buscar:')\n",
        "     if busqueda in correo:\n",
        "       print(\"Correo encontrado: \" + busqueda)\n",
        "     else: \n",
        "       print(\"Correo no encotrado!\")\n",
        "  elif opcion == \"5\":\n",
        "    busqueda= input('Ingrese el correo a eliminar:')\n",
        "    for n in range(len(correo)):\n",
        "      if usuarios[n].correo == busqueda:\n",
        "        usuarios[n].correo = None\n",
        "        usuarios[n].contrasena = None\n",
        "        \n",
        "  elif opcion == \"6\":\n",
        "    break\n",
        "  else:\n",
        "    print(\"Valor invalido\")\n",
        "  \n",
        "import pickle\n",
        "f = open ('usuarios.txt', 'wb')\n",
        "pickle.dump(usuarios, f)\n",
        "f.close()\n",
        "\n",
        "f =open ('usuarios.txt', 'rb')\n",
        "usuarios=pickle.load(f)\n",
        "f.close()\n",
        "\n",
        "\n",
        "\n"
      ]
    }
  ]
}