{
  "nbformat": 4,
  "nbformat_minor": 0,
  "metadata": {
    "colab": {
      "name": "Untitled0.ipynb",
      "provenance": [],
      "collapsed_sections": [],
      "authorship_tag": "ABX9TyNkpi0pXgVDdJkvqhhGAmrf",
      "include_colab_link": true
    },
    "kernelspec": {
      "name": "python3",
      "display_name": "Python 3"
    },
    "language_info": {
      "name": "python"
    }
  },
  "cells": [
    {
      "cell_type": "markdown",
      "metadata": {
        "id": "view-in-github",
        "colab_type": "text"
      },
      "source": [
        "<a href=\"https://colab.research.google.com/github/abrilgamino/Practica-01Py/blob/main/Untitled0.ipynb\" target=\"_parent\"><img src=\"https://colab.research.google.com/assets/colab-badge.svg\" alt=\"Open In Colab\"/></a>"
      ]
    },
    {
      "cell_type": "code",
      "execution_count": null,
      "metadata": {
        "colab": {
          "base_uri": "https://localhost:8080/"
        },
        "id": "BL3qLcDLpFKC",
        "outputId": "f15b2734-603e-4891-8c8e-7690142fa288"
      },
      "outputs": [
        {
          "output_type": "stream",
          "name": "stdout",
          "text": [
            "hola...\n"
          ]
        }
      ],
      "source": [
        "print ('hola...')"
      ]
    },
    {
      "cell_type": "markdown",
      "source": [
        "# **Manejo de Importaciones**"
      ],
      "metadata": {
        "id": "cXZuhhGltKOQ"
      }
    },
    {
      "cell_type": "markdown",
      "source": [
        "**Librería** **Random**"
      ],
      "metadata": {
        "id": "QZuKzvytsLzh"
      }
    },
    {
      "cell_type": "code",
      "source": [
        "import random"
      ],
      "metadata": {
        "id": "p0ydHuOqsTs_"
      },
      "execution_count": null,
      "outputs": []
    },
    {
      "cell_type": "code",
      "source": [
        "import os, sys"
      ],
      "metadata": {
        "id": "fZhy1f-Jse0-"
      },
      "execution_count": null,
      "outputs": []
    },
    {
      "cell_type": "code",
      "source": [
        "from math import factorial"
      ],
      "metadata": {
        "id": "ldTYGf4psi6Y"
      },
      "execution_count": null,
      "outputs": []
    },
    {
      "cell_type": "markdown",
      "source": [
        "**Uso de Modulos**"
      ],
      "metadata": {
        "id": "3V_3b1_ztaOO"
      }
    },
    {
      "cell_type": "code",
      "source": [
        "print (random.randint(10,50))"
      ],
      "metadata": {
        "colab": {
          "base_uri": "https://localhost:8080/"
        },
        "id": "8Qu1w696td5C",
        "outputId": "237905d7-eef1-44ba-b47a-696cbf8e111b"
      },
      "execution_count": null,
      "outputs": [
        {
          "output_type": "stream",
          "name": "stdout",
          "text": [
            "47\n"
          ]
        }
      ]
    },
    {
      "cell_type": "code",
      "source": [
        "print(factorial (5))"
      ],
      "metadata": {
        "colab": {
          "base_uri": "https://localhost:8080/"
        },
        "id": "KJWXGZVQuR8S",
        "outputId": "cd49070b-7dc4-4832-d272-6eb4f8481775"
      },
      "execution_count": null,
      "outputs": [
        {
          "output_type": "stream",
          "name": "stdout",
          "text": [
            "120\n"
          ]
        }
      ]
    },
    {
      "cell_type": "code",
      "source": [
        "print(random.randrange(10))"
      ],
      "metadata": {
        "colab": {
          "base_uri": "https://localhost:8080/"
        },
        "id": "1sT6V8Lhzlyg",
        "outputId": "4acf7f83-d96a-49bf-88f5-bd6765cefa46"
      },
      "execution_count": null,
      "outputs": [
        {
          "output_type": "stream",
          "name": "stdout",
          "text": [
            "9\n"
          ]
        }
      ]
    },
    {
      "cell_type": "code",
      "source": [
        "print(random.randrange(100))"
      ],
      "metadata": {
        "colab": {
          "base_uri": "https://localhost:8080/"
        },
        "id": "zSzJFuMTzo9h",
        "outputId": "a825a26e-f2f7-4ee1-8ceb-1cc655b130a8"
      },
      "execution_count": null,
      "outputs": [
        {
          "output_type": "stream",
          "name": "stdout",
          "text": [
            "73\n"
          ]
        }
      ]
    },
    {
      "cell_type": "code",
      "source": [
        "from random import randrange\n",
        "print(randrange(10))"
      ],
      "metadata": {
        "colab": {
          "base_uri": "https://localhost:8080/"
        },
        "id": "r1JUljuZz_mO",
        "outputId": "47d71ceb-b189-4aa2-c542-f3c90ba84759"
      },
      "execution_count": null,
      "outputs": [
        {
          "output_type": "stream",
          "name": "stdout",
          "text": [
            "5\n"
          ]
        }
      ]
    },
    {
      "cell_type": "code",
      "source": [
        "#¿Quíen comienza?\n",
        "comienza=random.randint(0,1)\n",
        "print (comienza)\n",
        "if comienza == 0:\n",
        " print('Comienza el juego')\n",
        "else:\n",
        "  print('Comienza el PC')"
      ],
      "metadata": {
        "colab": {
          "base_uri": "https://localhost:8080/"
        },
        "id": "9oNvMwRh0SLa",
        "outputId": "fe422d10-6c05-4315-e42b-d2f419fe0f0e"
      },
      "execution_count": null,
      "outputs": [
        {
          "output_type": "stream",
          "name": "stdout",
          "text": [
            "1\n",
            "Comienza el PC\n"
          ]
        }
      ]
    },
    {
      "cell_type": "code",
      "source": [
        "#Número aleatorio lanzamiento de dado\n",
        "Numero=random.randint(1,6)\n",
        "print ('El número obtenido es:',Numero)\n"
      ],
      "metadata": {
        "colab": {
          "base_uri": "https://localhost:8080/"
        },
        "id": "Zv6vvG3e1fqZ",
        "outputId": "26d429d6-c97c-408b-9aec-eb1728abdc7f"
      },
      "execution_count": null,
      "outputs": [
        {
          "output_type": "stream",
          "name": "stdout",
          "text": [
            "El número obtenido es: 5\n"
          ]
        }
      ]
    },
    {
      "cell_type": "code",
      "source": [
        "x=1\n",
        "n2=0\n",
        "while (x <= 6):\n",
        "  numero =random.randint(1 , 6)\n",
        "  print('El número obtenido es:', Numero)\n",
        "  if numero == 2:\n",
        "    n2 = n2+ 1\n",
        "  x=x +1\n",
        "print('El número de veces que salio el 2 son:', n2)"
      ],
      "metadata": {
        "colab": {
          "base_uri": "https://localhost:8080/"
        },
        "id": "w0B2x_l71_Jm",
        "outputId": "0863ca03-c601-402d-90f6-dad7760215ba"
      },
      "execution_count": null,
      "outputs": [
        {
          "output_type": "stream",
          "name": "stdout",
          "text": [
            "El número obtenido es: 5\n",
            "El número obtenido es: 5\n",
            "El número obtenido es: 5\n",
            "El número obtenido es: 5\n",
            "El número obtenido es: 5\n",
            "El número obtenido es: 5\n",
            "El número de veces que salio el 2 son: 1\n"
          ]
        }
      ]
    },
    {
      "cell_type": "markdown",
      "source": [
        "La función random() devuelve un float comprendido entre [0.0 y 1.0]"
      ],
      "metadata": {
        "id": "PxVUL2jR4j1r"
      }
    },
    {
      "cell_type": "code",
      "source": [
        "for i in range (10):\n",
        "  print(random.randrange(5,27,4))"
      ],
      "metadata": {
        "colab": {
          "base_uri": "https://localhost:8080/"
        },
        "id": "-w1FEZ314GUe",
        "outputId": "10669a35-7454-4ab1-f792-25e1f47acabf"
      },
      "execution_count": null,
      "outputs": [
        {
          "output_type": "stream",
          "name": "stdout",
          "text": [
            "17\n",
            "5\n",
            "25\n",
            "5\n",
            "5\n",
            "13\n",
            "21\n",
            "25\n",
            "13\n",
            "17\n"
          ]
        }
      ]
    },
    {
      "cell_type": "code",
      "source": [
        ""
      ],
      "metadata": {
        "id": "WxkyRs_ePIvp"
      },
      "execution_count": null,
      "outputs": []
    },
    {
      "cell_type": "markdown",
      "source": [
        "**Importando un módulo(Cisco)**"
      ],
      "metadata": {
        "id": "RMsPOpZl67l3"
      }
    },
    {
      "cell_type": "code",
      "source": [
        "import math\n",
        "print(math.sin(math.pi/2))"
      ],
      "metadata": {
        "colab": {
          "base_uri": "https://localhost:8080/"
        },
        "id": "W3kNfK_t4s4S",
        "outputId": "9ce3c104-0111-4e59-aadb-c2e8c1033411"
      },
      "execution_count": null,
      "outputs": [
        {
          "output_type": "stream",
          "name": "stdout",
          "text": [
            "1.0\n"
          ]
        }
      ]
    },
    {
      "cell_type": "code",
      "source": [
        "import math\n",
        "def sin(x):\n",
        "    if 2 * x == pi:\n",
        "        return 0.99999999\n",
        "    else:\n",
        "        return None\n",
        "pi = 3.14\n",
        "print(sin(pi/2))\n",
        "print(math.sin(math.pi/2))"
      ],
      "metadata": {
        "colab": {
          "base_uri": "https://localhost:8080/"
        },
        "id": "t4KOfHS67FHG",
        "outputId": "5629396f-c2f7-47e2-c4d6-b20fba05ff0a"
      },
      "execution_count": null,
      "outputs": [
        {
          "output_type": "stream",
          "name": "stdout",
          "text": [
            "0.99999999\n",
            "1.0\n"
          ]
        }
      ]
    },
    {
      "cell_type": "code",
      "source": [
        "from math import sin, pi\n",
        "\n",
        "print(sin(pi/2))\n",
        "\n"
      ],
      "metadata": {
        "colab": {
          "base_uri": "https://localhost:8080/"
        },
        "id": "DW6Ele3e7qku",
        "outputId": "8f4041fd-a865-46e3-80c5-2223cfdddea2"
      },
      "execution_count": null,
      "outputs": [
        {
          "output_type": "stream",
          "name": "stdout",
          "text": [
            "1.0\n"
          ]
        }
      ]
    },
    {
      "cell_type": "code",
      "source": [
        "pi = 3.14\n",
        "\n",
        "\n",
        "def sin(x):\n",
        "    if 2 * x == pi:\n",
        "        return 0.99999999\n",
        "    else:\n",
        "        return None\n",
        "\n",
        "\n",
        "print(sin(pi / 2))\n",
        "\n",
        "from math import sin, pi\n",
        "\n",
        "print(sin(pi / 2))\n",
        "\n"
      ],
      "metadata": {
        "colab": {
          "base_uri": "https://localhost:8080/"
        },
        "id": "eogUfhXl7x8n",
        "outputId": "4ba0919e-c173-4f5d-cf43-d3b7c76a4f21"
      },
      "execution_count": null,
      "outputs": [
        {
          "output_type": "stream",
          "name": "stdout",
          "text": [
            "0.99999999\n",
            "1.0\n"
          ]
        }
      ]
    },
    {
      "cell_type": "code",
      "source": [
        "import math as m\n",
        "\n",
        "print(m.sin(m.pi/2))"
      ],
      "metadata": {
        "colab": {
          "base_uri": "https://localhost:8080/"
        },
        "id": "1Y4cgDE77_oH",
        "outputId": "ce04b09d-162e-4072-afa1-10e387617f1e"
      },
      "execution_count": null,
      "outputs": [
        {
          "output_type": "stream",
          "name": "stdout",
          "text": [
            "1.0\n"
          ]
        }
      ]
    },
    {
      "cell_type": "code",
      "source": [
        "import math\n",
        "\n",
        "for name in dir(math):\n",
        "    print(name, end=\"\\t\")"
      ],
      "metadata": {
        "colab": {
          "base_uri": "https://localhost:8080/"
        },
        "id": "zxsXmoqL8Kpn",
        "outputId": "24497850-3bfa-4283-f2b9-f2a52daf3372"
      },
      "execution_count": null,
      "outputs": [
        {
          "output_type": "stream",
          "name": "stdout",
          "text": [
            "__doc__\t__loader__\t__name__\t__package__\t__spec__\tacos\tacosh\tasin\tasinh\tatan\tatan2\tatanh\tceil\tcopysign\tcos\tcosh\tdegrees\te\terf\terfc\texp\texpm1\tfabs\tfactorial\tfloor\tfmod\tfrexp\tfsum\tgamma\tgcd\thypot\tinf\tisclose\tisfinite\tisinf\tisnan\tldexp\tlgamma\tlog\tlog10\tlog1p\tlog2\tmodf\tnan\tpi\tpow\tradians\tremainder\tsin\tsinh\tsqrt\ttan\ttanh\ttau\ttrunc\t"
          ]
        }
      ]
    },
    {
      "cell_type": "code",
      "source": [
        "import math\n",
        "dir(math)"
      ],
      "metadata": {
        "colab": {
          "base_uri": "https://localhost:8080/"
        },
        "id": "cY1sd6-q8nfz",
        "outputId": "a36cdaa5-c670-4479-acde-a9031fec25d1"
      },
      "execution_count": null,
      "outputs": [
        {
          "output_type": "execute_result",
          "data": {
            "text/plain": [
              "['__doc__',\n",
              " '__loader__',\n",
              " '__name__',\n",
              " '__package__',\n",
              " '__spec__',\n",
              " 'acos',\n",
              " 'acosh',\n",
              " 'asin',\n",
              " 'asinh',\n",
              " 'atan',\n",
              " 'atan2',\n",
              " 'atanh',\n",
              " 'ceil',\n",
              " 'copysign',\n",
              " 'cos',\n",
              " 'cosh',\n",
              " 'degrees',\n",
              " 'e',\n",
              " 'erf',\n",
              " 'erfc',\n",
              " 'exp',\n",
              " 'expm1',\n",
              " 'fabs',\n",
              " 'factorial',\n",
              " 'floor',\n",
              " 'fmod',\n",
              " 'frexp',\n",
              " 'fsum',\n",
              " 'gamma',\n",
              " 'gcd',\n",
              " 'hypot',\n",
              " 'inf',\n",
              " 'isclose',\n",
              " 'isfinite',\n",
              " 'isinf',\n",
              " 'isnan',\n",
              " 'ldexp',\n",
              " 'lgamma',\n",
              " 'log',\n",
              " 'log10',\n",
              " 'log1p',\n",
              " 'log2',\n",
              " 'modf',\n",
              " 'nan',\n",
              " 'pi',\n",
              " 'pow',\n",
              " 'radians',\n",
              " 'remainder',\n",
              " 'sin',\n",
              " 'sinh',\n",
              " 'sqrt',\n",
              " 'tan',\n",
              " 'tanh',\n",
              " 'tau',\n",
              " 'trunc']"
            ]
          },
          "metadata": {},
          "execution_count": 41
        }
      ]
    },
    {
      "cell_type": "code",
      "source": [
        "from math import pi, radians, degrees, sin, cos, tan, asin\n",
        "\n",
        "ad = 90\n",
        "ar = radians(ad)\n",
        "ad = degrees(ar)\n",
        "\n",
        "print(ad == 90.)\n",
        "print(ar == pi / 2.)\n",
        "print(sin(ar) / cos(ar) == tan(ar))\n",
        "print(asin(sin(ar)) == ar)"
      ],
      "metadata": {
        "colab": {
          "base_uri": "https://localhost:8080/"
        },
        "id": "4c69wGiV8z4x",
        "outputId": "dfd76c1c-eee0-4700-947d-9f60e392ba0e"
      },
      "execution_count": null,
      "outputs": [
        {
          "output_type": "stream",
          "name": "stdout",
          "text": [
            "True\n",
            "True\n",
            "True\n",
            "True\n"
          ]
        }
      ]
    },
    {
      "cell_type": "code",
      "source": [
        "from math import e, exp, log\n",
        "\n",
        "print(pow(e, 1) == exp(log(e)))\n",
        "print(pow(2, 2) == exp(2 * log(2)))\n",
        "print(log(e, e) == exp(0))\n"
      ],
      "metadata": {
        "colab": {
          "base_uri": "https://localhost:8080/"
        },
        "id": "tvwnxh7l9Bbr",
        "outputId": "07ccb679-c5c0-4a3f-aa8c-053ebe421aee"
      },
      "execution_count": null,
      "outputs": [
        {
          "output_type": "stream",
          "name": "stdout",
          "text": [
            "True\n",
            "True\n",
            "True\n"
          ]
        }
      ]
    },
    {
      "cell_type": "code",
      "source": [
        "from math import ceil, floor, trunc\n",
        "\n",
        "x = 1.4\n",
        "y = 2.6\n",
        "\n",
        "print(floor(x), floor(y))\n",
        "print(floor(-x), floor(-y))\n",
        "print(ceil(x), ceil(y))\n",
        "print(ceil(-x), ceil(-y))\n",
        "print(trunc(x), trunc(y))\n",
        "print(trunc(-x), trunc(-y))\n"
      ],
      "metadata": {
        "colab": {
          "base_uri": "https://localhost:8080/"
        },
        "id": "etXZeMPh9LGs",
        "outputId": "dc90a70c-6ceb-49c3-cb8c-eb26bdbeb3ca"
      },
      "execution_count": null,
      "outputs": [
        {
          "output_type": "stream",
          "name": "stdout",
          "text": [
            "1 2\n",
            "-2 -3\n",
            "2 3\n",
            "-1 -2\n",
            "1 2\n",
            "-1 -2\n"
          ]
        }
      ]
    },
    {
      "cell_type": "code",
      "source": [
        "from random import random\n",
        "\n",
        "for i in range(5):\n",
        "    print(random())"
      ],
      "metadata": {
        "colab": {
          "base_uri": "https://localhost:8080/"
        },
        "id": "Xk3eY8Hf9SRV",
        "outputId": "a12f2579-cfe3-42f7-fac0-60c89e71d6f1"
      },
      "execution_count": null,
      "outputs": [
        {
          "output_type": "stream",
          "name": "stdout",
          "text": [
            "0.5586284684680418\n",
            "0.6458159583160641\n",
            "0.5563662002668941\n",
            "0.7495568337859926\n",
            "0.9934587951917986\n"
          ]
        }
      ]
    },
    {
      "cell_type": "code",
      "source": [
        "from random import random, seed\n",
        "\n",
        "seed(0)\n",
        "\n",
        "for i in range(5):\n",
        "    print(random())"
      ],
      "metadata": {
        "colab": {
          "base_uri": "https://localhost:8080/"
        },
        "id": "_9jjdCCK9TUY",
        "outputId": "bba4e4a6-5861-4a78-814b-315eef7a0b2a"
      },
      "execution_count": null,
      "outputs": [
        {
          "output_type": "stream",
          "name": "stdout",
          "text": [
            "0.8444218515250481\n",
            "0.7579544029403025\n",
            "0.420571580830845\n",
            "0.25891675029296335\n",
            "0.5112747213686085\n"
          ]
        }
      ]
    },
    {
      "cell_type": "code",
      "source": [
        "from random import randrange, randint\n",
        "\n",
        "print(randrange(1), end=' ')\n",
        "print(randrange(0, 1), end=' ')\n",
        "print(randrange(0, 1, 1), end=' ')\n",
        "print(randint(0, 1))"
      ],
      "metadata": {
        "colab": {
          "base_uri": "https://localhost:8080/"
        },
        "id": "J6nwUfF_9WYX",
        "outputId": "3f2094c9-fba7-465a-a1e3-5d06677c73c0"
      },
      "execution_count": null,
      "outputs": [
        {
          "output_type": "stream",
          "name": "stdout",
          "text": [
            "0 0 0 1\n"
          ]
        }
      ]
    },
    {
      "cell_type": "code",
      "source": [
        "from random import randint\n",
        "\n",
        "for i in range(10):\n",
        "    print(randint(1, 10), end=',')"
      ],
      "metadata": {
        "colab": {
          "base_uri": "https://localhost:8080/"
        },
        "id": "OK0wYTOY9dfB",
        "outputId": "d3b53552-9398-4a5f-f768-c64eb179f9af"
      },
      "execution_count": null,
      "outputs": [
        {
          "output_type": "stream",
          "name": "stdout",
          "text": [
            "10,4,9,3,5,3,2,10,5,9,"
          ]
        }
      ]
    },
    {
      "cell_type": "code",
      "source": [
        "from random import choice, sample\n",
        "\n",
        "my_list = [1, 2, 3, 4, 5, 6, 7, 8, 9, 10]\n",
        "\n",
        "print(choice(my_list))\n",
        "print(sample(my_list, 5))\n",
        "print(sample(my_list, 10))"
      ],
      "metadata": {
        "colab": {
          "base_uri": "https://localhost:8080/"
        },
        "id": "3pH3m9B89pYW",
        "outputId": "de0a0a9c-83d2-4a2b-ce90-8fbedb9d4c44"
      },
      "execution_count": null,
      "outputs": [
        {
          "output_type": "stream",
          "name": "stdout",
          "text": [
            "10\n",
            "[3, 5, 2, 6, 1]\n",
            "[6, 8, 2, 3, 4, 7, 9, 5, 10, 1]\n"
          ]
        }
      ]
    },
    {
      "cell_type": "code",
      "source": [
        "from platform import platform\n",
        "\n",
        "print(platform())\n",
        "print(platform(1))\n",
        "print(platform(0, 1))"
      ],
      "metadata": {
        "colab": {
          "base_uri": "https://localhost:8080/"
        },
        "id": "CbWg0p6Q9r4i",
        "outputId": "f3712d43-b93f-4b3e-b903-8e83e15c1805"
      },
      "execution_count": null,
      "outputs": [
        {
          "output_type": "stream",
          "name": "stdout",
          "text": [
            "Linux-5.4.144+-x86_64-with-Ubuntu-18.04-bionic\n",
            "Linux-5.4.144+-x86_64-with-Ubuntu-18.04-bionic\n",
            "Linux-5.4.144+-x86_64-with-glibc2.26\n"
          ]
        }
      ]
    },
    {
      "cell_type": "code",
      "source": [
        "from platform import machine\n",
        "\n",
        "print(machine())"
      ],
      "metadata": {
        "colab": {
          "base_uri": "https://localhost:8080/"
        },
        "id": "4KG2toCo9xK4",
        "outputId": "43a3968a-55d5-432c-ec8d-632e7460eeff"
      },
      "execution_count": null,
      "outputs": [
        {
          "output_type": "stream",
          "name": "stdout",
          "text": [
            "x86_64\n"
          ]
        }
      ]
    },
    {
      "cell_type": "code",
      "source": [
        "from platform import processor\n",
        "\n",
        "print(processor())"
      ],
      "metadata": {
        "colab": {
          "base_uri": "https://localhost:8080/"
        },
        "id": "WFDgodqo91gH",
        "outputId": "33876375-641d-4c78-9d85-2fd200c2e70f"
      },
      "execution_count": null,
      "outputs": [
        {
          "output_type": "stream",
          "name": "stdout",
          "text": [
            "x86_64\n"
          ]
        }
      ]
    },
    {
      "cell_type": "code",
      "source": [
        "from platform import system\n",
        "\n",
        "print(system())"
      ],
      "metadata": {
        "colab": {
          "base_uri": "https://localhost:8080/"
        },
        "id": "8PnON8dn98B_",
        "outputId": "53ecf2db-c28d-4f34-a830-5f34db995719"
      },
      "execution_count": null,
      "outputs": [
        {
          "output_type": "stream",
          "name": "stdout",
          "text": [
            "Linux\n"
          ]
        }
      ]
    },
    {
      "cell_type": "code",
      "source": [
        "from platform import version\n",
        "\n",
        "print(version())"
      ],
      "metadata": {
        "colab": {
          "base_uri": "https://localhost:8080/"
        },
        "id": "HPq751p19-7H",
        "outputId": "71eabc76-e029-4846-ab7f-8c762e4244ab"
      },
      "execution_count": null,
      "outputs": [
        {
          "output_type": "stream",
          "name": "stdout",
          "text": [
            "#1 SMP Tue Dec 7 09:58:10 PST 2021\n"
          ]
        }
      ]
    },
    {
      "cell_type": "code",
      "source": [
        "from platform import python_implementation, python_version_tuple\n",
        "\n",
        "print(python_implementation())\n",
        "\n",
        "for atr in python_version_tuple():\n",
        "    print(atr)"
      ],
      "metadata": {
        "colab": {
          "base_uri": "https://localhost:8080/"
        },
        "id": "SA_rLdNj-Dct",
        "outputId": "ae555b24-f077-4ee6-89ea-c456595efab8"
      },
      "execution_count": null,
      "outputs": [
        {
          "output_type": "stream",
          "name": "stdout",
          "text": [
            "CPython\n",
            "3\n",
            "7\n",
            "12\n"
          ]
        }
      ]
    },
    {
      "cell_type": "code",
      "source": [
        "import os\n",
        "dir(os)"
      ],
      "metadata": {
        "id": "H8lhoZzi-Qtu",
        "outputId": "ef49bd52-21a0-484e-c43e-5471854c5c45",
        "colab": {
          "base_uri": "https://localhost:8080/"
        }
      },
      "execution_count": null,
      "outputs": [
        {
          "output_type": "execute_result",
          "data": {
            "text/plain": [
              "['CLD_CONTINUED',\n",
              " 'CLD_DUMPED',\n",
              " 'CLD_EXITED',\n",
              " 'CLD_TRAPPED',\n",
              " 'DirEntry',\n",
              " 'EX_CANTCREAT',\n",
              " 'EX_CONFIG',\n",
              " 'EX_DATAERR',\n",
              " 'EX_IOERR',\n",
              " 'EX_NOHOST',\n",
              " 'EX_NOINPUT',\n",
              " 'EX_NOPERM',\n",
              " 'EX_NOUSER',\n",
              " 'EX_OK',\n",
              " 'EX_OSERR',\n",
              " 'EX_OSFILE',\n",
              " 'EX_PROTOCOL',\n",
              " 'EX_SOFTWARE',\n",
              " 'EX_TEMPFAIL',\n",
              " 'EX_UNAVAILABLE',\n",
              " 'EX_USAGE',\n",
              " 'F_LOCK',\n",
              " 'F_OK',\n",
              " 'F_TEST',\n",
              " 'F_TLOCK',\n",
              " 'F_ULOCK',\n",
              " 'GRND_NONBLOCK',\n",
              " 'GRND_RANDOM',\n",
              " 'MutableMapping',\n",
              " 'NGROUPS_MAX',\n",
              " 'O_ACCMODE',\n",
              " 'O_APPEND',\n",
              " 'O_ASYNC',\n",
              " 'O_CLOEXEC',\n",
              " 'O_CREAT',\n",
              " 'O_DIRECT',\n",
              " 'O_DIRECTORY',\n",
              " 'O_DSYNC',\n",
              " 'O_EXCL',\n",
              " 'O_LARGEFILE',\n",
              " 'O_NDELAY',\n",
              " 'O_NOATIME',\n",
              " 'O_NOCTTY',\n",
              " 'O_NOFOLLOW',\n",
              " 'O_NONBLOCK',\n",
              " 'O_PATH',\n",
              " 'O_RDONLY',\n",
              " 'O_RDWR',\n",
              " 'O_RSYNC',\n",
              " 'O_SYNC',\n",
              " 'O_TMPFILE',\n",
              " 'O_TRUNC',\n",
              " 'O_WRONLY',\n",
              " 'POSIX_FADV_DONTNEED',\n",
              " 'POSIX_FADV_NOREUSE',\n",
              " 'POSIX_FADV_NORMAL',\n",
              " 'POSIX_FADV_RANDOM',\n",
              " 'POSIX_FADV_SEQUENTIAL',\n",
              " 'POSIX_FADV_WILLNEED',\n",
              " 'PRIO_PGRP',\n",
              " 'PRIO_PROCESS',\n",
              " 'PRIO_USER',\n",
              " 'P_ALL',\n",
              " 'P_NOWAIT',\n",
              " 'P_NOWAITO',\n",
              " 'P_PGID',\n",
              " 'P_PID',\n",
              " 'P_WAIT',\n",
              " 'PathLike',\n",
              " 'RTLD_DEEPBIND',\n",
              " 'RTLD_GLOBAL',\n",
              " 'RTLD_LAZY',\n",
              " 'RTLD_LOCAL',\n",
              " 'RTLD_NODELETE',\n",
              " 'RTLD_NOLOAD',\n",
              " 'RTLD_NOW',\n",
              " 'RWF_DSYNC',\n",
              " 'RWF_HIPRI',\n",
              " 'RWF_NOWAIT',\n",
              " 'RWF_SYNC',\n",
              " 'R_OK',\n",
              " 'SCHED_BATCH',\n",
              " 'SCHED_FIFO',\n",
              " 'SCHED_IDLE',\n",
              " 'SCHED_OTHER',\n",
              " 'SCHED_RESET_ON_FORK',\n",
              " 'SCHED_RR',\n",
              " 'SEEK_CUR',\n",
              " 'SEEK_DATA',\n",
              " 'SEEK_END',\n",
              " 'SEEK_HOLE',\n",
              " 'SEEK_SET',\n",
              " 'ST_APPEND',\n",
              " 'ST_MANDLOCK',\n",
              " 'ST_NOATIME',\n",
              " 'ST_NODEV',\n",
              " 'ST_NODIRATIME',\n",
              " 'ST_NOEXEC',\n",
              " 'ST_NOSUID',\n",
              " 'ST_RDONLY',\n",
              " 'ST_RELATIME',\n",
              " 'ST_SYNCHRONOUS',\n",
              " 'ST_WRITE',\n",
              " 'TMP_MAX',\n",
              " 'WCONTINUED',\n",
              " 'WCOREDUMP',\n",
              " 'WEXITED',\n",
              " 'WEXITSTATUS',\n",
              " 'WIFCONTINUED',\n",
              " 'WIFEXITED',\n",
              " 'WIFSIGNALED',\n",
              " 'WIFSTOPPED',\n",
              " 'WNOHANG',\n",
              " 'WNOWAIT',\n",
              " 'WSTOPPED',\n",
              " 'WSTOPSIG',\n",
              " 'WTERMSIG',\n",
              " 'WUNTRACED',\n",
              " 'W_OK',\n",
              " 'XATTR_CREATE',\n",
              " 'XATTR_REPLACE',\n",
              " 'XATTR_SIZE_MAX',\n",
              " 'X_OK',\n",
              " '_Environ',\n",
              " '__all__',\n",
              " '__builtins__',\n",
              " '__cached__',\n",
              " '__doc__',\n",
              " '__file__',\n",
              " '__loader__',\n",
              " '__name__',\n",
              " '__package__',\n",
              " '__spec__',\n",
              " '_check_methods',\n",
              " '_execvpe',\n",
              " '_exists',\n",
              " '_exit',\n",
              " '_fspath',\n",
              " '_fwalk',\n",
              " '_get_exports_list',\n",
              " '_putenv',\n",
              " '_spawnvef',\n",
              " '_unsetenv',\n",
              " '_wrap_close',\n",
              " 'abc',\n",
              " 'abort',\n",
              " 'access',\n",
              " 'altsep',\n",
              " 'chdir',\n",
              " 'chmod',\n",
              " 'chown',\n",
              " 'chroot',\n",
              " 'close',\n",
              " 'closerange',\n",
              " 'confstr',\n",
              " 'confstr_names',\n",
              " 'cpu_count',\n",
              " 'ctermid',\n",
              " 'curdir',\n",
              " 'defpath',\n",
              " 'device_encoding',\n",
              " 'devnull',\n",
              " 'dup',\n",
              " 'dup2',\n",
              " 'environ',\n",
              " 'environb',\n",
              " 'error',\n",
              " 'execl',\n",
              " 'execle',\n",
              " 'execlp',\n",
              " 'execlpe',\n",
              " 'execv',\n",
              " 'execve',\n",
              " 'execvp',\n",
              " 'execvpe',\n",
              " 'extsep',\n",
              " 'fchdir',\n",
              " 'fchmod',\n",
              " 'fchown',\n",
              " 'fdatasync',\n",
              " 'fdopen',\n",
              " 'fork',\n",
              " 'forkpty',\n",
              " 'fpathconf',\n",
              " 'fsdecode',\n",
              " 'fsencode',\n",
              " 'fspath',\n",
              " 'fstat',\n",
              " 'fstatvfs',\n",
              " 'fsync',\n",
              " 'ftruncate',\n",
              " 'fwalk',\n",
              " 'get_blocking',\n",
              " 'get_exec_path',\n",
              " 'get_inheritable',\n",
              " 'get_terminal_size',\n",
              " 'getcwd',\n",
              " 'getcwdb',\n",
              " 'getegid',\n",
              " 'getenv',\n",
              " 'getenvb',\n",
              " 'geteuid',\n",
              " 'getgid',\n",
              " 'getgrouplist',\n",
              " 'getgroups',\n",
              " 'getloadavg',\n",
              " 'getlogin',\n",
              " 'getpgid',\n",
              " 'getpgrp',\n",
              " 'getpid',\n",
              " 'getppid',\n",
              " 'getpriority',\n",
              " 'getrandom',\n",
              " 'getresgid',\n",
              " 'getresuid',\n",
              " 'getsid',\n",
              " 'getuid',\n",
              " 'getxattr',\n",
              " 'initgroups',\n",
              " 'isatty',\n",
              " 'kill',\n",
              " 'killpg',\n",
              " 'lchown',\n",
              " 'linesep',\n",
              " 'link',\n",
              " 'listdir',\n",
              " 'listxattr',\n",
              " 'lockf',\n",
              " 'lseek',\n",
              " 'lstat',\n",
              " 'major',\n",
              " 'makedev',\n",
              " 'makedirs',\n",
              " 'minor',\n",
              " 'mkdir',\n",
              " 'mkfifo',\n",
              " 'mknod',\n",
              " 'name',\n",
              " 'nice',\n",
              " 'open',\n",
              " 'openpty',\n",
              " 'pardir',\n",
              " 'path',\n",
              " 'pathconf',\n",
              " 'pathconf_names',\n",
              " 'pathsep',\n",
              " 'pipe',\n",
              " 'pipe2',\n",
              " 'popen',\n",
              " 'posix_fadvise',\n",
              " 'posix_fallocate',\n",
              " 'pread',\n",
              " 'preadv',\n",
              " 'putenv',\n",
              " 'pwrite',\n",
              " 'pwritev',\n",
              " 'read',\n",
              " 'readlink',\n",
              " 'readv',\n",
              " 'register_at_fork',\n",
              " 'remove',\n",
              " 'removedirs',\n",
              " 'removexattr',\n",
              " 'rename',\n",
              " 'renames',\n",
              " 'replace',\n",
              " 'rmdir',\n",
              " 'scandir',\n",
              " 'sched_get_priority_max',\n",
              " 'sched_get_priority_min',\n",
              " 'sched_getaffinity',\n",
              " 'sched_getparam',\n",
              " 'sched_getscheduler',\n",
              " 'sched_param',\n",
              " 'sched_rr_get_interval',\n",
              " 'sched_setaffinity',\n",
              " 'sched_setparam',\n",
              " 'sched_setscheduler',\n",
              " 'sched_yield',\n",
              " 'sendfile',\n",
              " 'sep',\n",
              " 'set_blocking',\n",
              " 'set_inheritable',\n",
              " 'setegid',\n",
              " 'seteuid',\n",
              " 'setgid',\n",
              " 'setgroups',\n",
              " 'setpgid',\n",
              " 'setpgrp',\n",
              " 'setpriority',\n",
              " 'setregid',\n",
              " 'setresgid',\n",
              " 'setresuid',\n",
              " 'setreuid',\n",
              " 'setsid',\n",
              " 'setuid',\n",
              " 'setxattr',\n",
              " 'spawnl',\n",
              " 'spawnle',\n",
              " 'spawnlp',\n",
              " 'spawnlpe',\n",
              " 'spawnv',\n",
              " 'spawnve',\n",
              " 'spawnvp',\n",
              " 'spawnvpe',\n",
              " 'st',\n",
              " 'stat',\n",
              " 'stat_result',\n",
              " 'statvfs',\n",
              " 'statvfs_result',\n",
              " 'strerror',\n",
              " 'supports_bytes_environ',\n",
              " 'supports_dir_fd',\n",
              " 'supports_effective_ids',\n",
              " 'supports_fd',\n",
              " 'supports_follow_symlinks',\n",
              " 'symlink',\n",
              " 'sync',\n",
              " 'sys',\n",
              " 'sysconf',\n",
              " 'sysconf_names',\n",
              " 'system',\n",
              " 'tcgetpgrp',\n",
              " 'tcsetpgrp',\n",
              " 'terminal_size',\n",
              " 'times',\n",
              " 'times_result',\n",
              " 'truncate',\n",
              " 'ttyname',\n",
              " 'umask',\n",
              " 'uname',\n",
              " 'uname_result',\n",
              " 'unlink',\n",
              " 'unsetenv',\n",
              " 'urandom',\n",
              " 'utime',\n",
              " 'wait',\n",
              " 'wait3',\n",
              " 'wait4',\n",
              " 'waitid',\n",
              " 'waitid_result',\n",
              " 'waitpid',\n",
              " 'walk',\n",
              " 'write',\n",
              " 'writev']"
            ]
          },
          "metadata": {},
          "execution_count": 56
        }
      ]
    },
    {
      "cell_type": "code",
      "source": [
        "for i in range(1,16):\n",
        "  print(i,\"=\",random.random())"
      ],
      "metadata": {
        "colab": {
          "base_uri": "https://localhost:8080/"
        },
        "id": "SQ3KvxyhPKgq",
        "outputId": "c26171d9-7f77-404b-eedd-4bdf5c9f775c"
      },
      "execution_count": null,
      "outputs": [
        {
          "output_type": "stream",
          "name": "stdout",
          "text": [
            "1 = 0.6804387852252111\n",
            "2 = 0.6156967711248874\n",
            "3 = 0.08971004838672747\n",
            "4 = 0.5392368239577275\n",
            "5 = 0.9717842920369149\n",
            "6 = 0.16292461267951464\n",
            "7 = 0.5216888559854537\n",
            "8 = 0.7375893717501508\n",
            "9 = 0.6734275643648736\n",
            "10 = 0.7838296136413231\n",
            "11 = 0.018258687098107962\n",
            "12 = 0.9726378470229554\n",
            "13 = 0.5686742053091324\n",
            "14 = 0.7415996990620479\n",
            "15 = 0.8883888689438295\n"
          ]
        }
      ]
    },
    {
      "cell_type": "markdown",
      "source": [
        "***La función uniform (a,b) devuelve un float aleatorio comprendido entre a & b (ambos inclusive)***"
      ],
      "metadata": {
        "id": "6Iq4_NhdRoXn"
      }
    },
    {
      "cell_type": "code",
      "source": [
        "for i in range (5):\n",
        "  print(random.uniform(100,200))"
      ],
      "metadata": {
        "colab": {
          "base_uri": "https://localhost:8080/"
        },
        "id": "rgW34icySEVi",
        "outputId": "1a258e81-02f3-481f-fa59-8997dbd6b897"
      },
      "execution_count": null,
      "outputs": [
        {
          "output_type": "stream",
          "name": "stdout",
          "text": [
            "170.06855033462608\n",
            "137.76641469482647\n",
            "131.35112605326225\n",
            "181.9319439253244\n",
            "125.26143862765963\n"
          ]
        }
      ]
    },
    {
      "cell_type": "code",
      "source": [
        "print(\"{:.2f}\".format(random.uniform(100,200)))"
      ],
      "metadata": {
        "colab": {
          "base_uri": "https://localhost:8080/"
        },
        "id": "OsDz_jiAS8WC",
        "outputId": "45c608e5-a965-44dc-d4cb-2295eac65022"
      },
      "execution_count": null,
      "outputs": [
        {
          "output_type": "stream",
          "name": "stdout",
          "text": [
            "118.64\n"
          ]
        }
      ]
    },
    {
      "cell_type": "code",
      "source": [
        "print(\"{:.4f}\".format(random.random()))"
      ],
      "metadata": {
        "colab": {
          "base_uri": "https://localhost:8080/"
        },
        "id": "Pekv6sH3U3QH",
        "outputId": "c67d9c05-da96-4e0a-9ba8-96a52c2544ee"
      },
      "execution_count": null,
      "outputs": [
        {
          "output_type": "stream",
          "name": "stdout",
          "text": [
            "0.6265\n"
          ]
        }
      ]
    },
    {
      "cell_type": "code",
      "source": [
        "import math\n",
        "print(round(random.random(),3))\n",
        "print(round(random.random(),4))"
      ],
      "metadata": {
        "colab": {
          "base_uri": "https://localhost:8080/"
        },
        "id": "2NdzljNpVNa8",
        "outputId": "938a1ed5-e825-4e04-e7bf-735cdb6eb677"
      },
      "execution_count": null,
      "outputs": [
        {
          "output_type": "stream",
          "name": "stdout",
          "text": [
            "0.627\n",
            "0.7192\n"
          ]
        }
      ]
    },
    {
      "cell_type": "markdown",
      "source": [
        "***La función choice(sec) devuelve un elemento aleatorio de una secuencia. Es muy útil cuando hay que elegir al zar un elemento de entre un conjunto.***"
      ],
      "metadata": {
        "id": "YeOYWcpaSOT8"
      }
    },
    {
      "cell_type": "code",
      "source": [
        "frutas=['peras', 'manzanas', 'platános','ciruelas','melon','uvas', 'mango','piña']\n",
        "for i in range(3):\n",
        "  print(random.choice(frutas))"
      ],
      "metadata": {
        "colab": {
          "base_uri": "https://localhost:8080/"
        },
        "id": "fwqqS48LScTM",
        "outputId": "8d66a4e9-3c0e-4c24-fce0-177aece46307"
      },
      "execution_count": null,
      "outputs": [
        {
          "output_type": "stream",
          "name": "stdout",
          "text": [
            "uvas\n",
            "uvas\n",
            "melon\n"
          ]
        }
      ]
    },
    {
      "cell_type": "markdown",
      "source": [
        "***La función shuffle(sec)modifica el orden de los elementos de una lista. Esta función se asemeja a la acción de mezclar una baraja.***"
      ],
      "metadata": {
        "id": "qjs1Ssi7XEb8"
      }
    },
    {
      "cell_type": "code",
      "source": [
        "baraja=[1,2,3,4,5,6,7,8,9,10,11,12,100]\n",
        "print(baraja)\n",
        "for i in range(3):\n",
        "  random.shuffle(baraja)\n",
        "  print(baraja)"
      ],
      "metadata": {
        "colab": {
          "base_uri": "https://localhost:8080/"
        },
        "id": "33I68neEX6fn",
        "outputId": "698496ca-66aa-4b4d-85e3-bcb2c48f4326"
      },
      "execution_count": null,
      "outputs": [
        {
          "output_type": "stream",
          "name": "stdout",
          "text": [
            "[1, 2, 3, 4, 5, 6, 7, 8, 9, 10, 11, 12, 100]\n",
            "[8, 5, 2, 12, 11, 9, 6, 7, 10, 4, 100, 1, 3]\n",
            "[1, 2, 4, 11, 12, 5, 9, 8, 3, 10, 6, 100, 7]\n",
            "[3, 100, 12, 1, 6, 2, 11, 9, 7, 10, 4, 5, 8]\n"
          ]
        }
      ]
    },
    {
      "cell_type": "markdown",
      "source": [
        "***La última función que veremos es sample(sec,num). Esta función devuelve num elementos aleatorios de la secuenccia sec. Siguiendo con el ejemplo de la baraja, sería similar a la acción repartir num cartas a un jugador.***"
      ],
      "metadata": {
        "id": "wSD6fpebb7XI"
      }
    },
    {
      "cell_type": "code",
      "source": [
        "baraja=[1,2,3,4,5,6,7,10,11,12]\n",
        "random.sample(baraja,5)\n"
      ],
      "metadata": {
        "colab": {
          "base_uri": "https://localhost:8080/"
        },
        "id": "MHEzj__scUug",
        "outputId": "63a2c29a-bb5b-4378-d9ff-5ce70a8d0d8a"
      },
      "execution_count": null,
      "outputs": [
        {
          "output_type": "execute_result",
          "data": {
            "text/plain": [
              "[6, 11, 10, 3, 2]"
            ]
          },
          "metadata": {},
          "execution_count": 22
        }
      ]
    },
    {
      "cell_type": "markdown",
      "source": [
        "***Retorna un objeto capturado el estado interno del generador. Este objeto puede pasarse a setseate () para restaurar su estado.***"
      ],
      "metadata": {
        "id": "-V3kJSFshp_2"
      }
    },
    {
      "cell_type": "code",
      "source": [
        "random.seed(0,2)"
      ],
      "metadata": {
        "id": "uwc0KlABh_Rc"
      },
      "execution_count": null,
      "outputs": []
    },
    {
      "cell_type": "code",
      "source": [
        "random.triangular()"
      ],
      "metadata": {
        "colab": {
          "base_uri": "https://localhost:8080/"
        },
        "id": "talYlgn_i9xC",
        "outputId": "96f80212-4662-45ad-dc8a-8f27eb110dd1"
      },
      "execution_count": null,
      "outputs": [
        {
          "output_type": "execute_result",
          "data": {
            "text/plain": [
              "0.7079211683920048"
            ]
          },
          "metadata": {},
          "execution_count": 26
        }
      ]
    },
    {
      "cell_type": "markdown",
      "source": [
        "# Librería Math"
      ],
      "metadata": {
        "id": "2-aUzz0-jFg1"
      }
    },
    {
      "cell_type": "code",
      "source": [
        "import math\n",
        "from math import fabs"
      ],
      "metadata": {
        "id": "1WdhVv7FjJWs"
      },
      "execution_count": null,
      "outputs": []
    },
    {
      "cell_type": "code",
      "source": [
        "print(math.pi)"
      ],
      "metadata": {
        "colab": {
          "base_uri": "https://localhost:8080/"
        },
        "id": "2z7u9u38jPLA",
        "outputId": "11f8f28d-9c06-44eb-fcd7-d58672378ea1"
      },
      "execution_count": null,
      "outputs": [
        {
          "output_type": "stream",
          "name": "stdout",
          "text": [
            "3.141592653589793\n"
          ]
        }
      ]
    },
    {
      "cell_type": "code",
      "source": [
        "print(fabs(-55))\n",
        "print(-55)"
      ],
      "metadata": {
        "colab": {
          "base_uri": "https://localhost:8080/"
        },
        "id": "9Cs734fAjehN",
        "outputId": "e2c52220-f864-4789-fc15-43ae5ca8eeb3"
      },
      "execution_count": null,
      "outputs": [
        {
          "output_type": "stream",
          "name": "stdout",
          "text": [
            "55.0\n",
            "-55\n"
          ]
        }
      ]
    },
    {
      "cell_type": "code",
      "source": [
        "print(math.factorial(5))"
      ],
      "metadata": {
        "colab": {
          "base_uri": "https://localhost:8080/"
        },
        "id": "NexKIF8WjoTl",
        "outputId": "80fb4e9c-d55c-4b4d-cfa1-7d2db91c7634"
      },
      "execution_count": null,
      "outputs": [
        {
          "output_type": "stream",
          "name": "stdout",
          "text": [
            "120\n"
          ]
        }
      ]
    },
    {
      "cell_type": "code",
      "source": [
        "print(math.sin(math.pi/2))"
      ],
      "metadata": {
        "colab": {
          "base_uri": "https://localhost:8080/"
        },
        "id": "j9TZ2V7FkCjo",
        "outputId": "b9095f3a-d031-4e4c-b2ca-a0a845e3cb47"
      },
      "execution_count": null,
      "outputs": [
        {
          "output_type": "stream",
          "name": "stdout",
          "text": [
            "1.0\n"
          ]
        }
      ]
    },
    {
      "cell_type": "code",
      "source": [
        "def sin(x):\n",
        "  if 2*x == pi:\n",
        "    return 0.99999999999\n",
        "  else: \n",
        "    return None\n",
        "\n",
        "pi= 3.14\n",
        "\n",
        "print(sin(pi/2))\n",
        "print(math.sin(pi/2))\n"
      ],
      "metadata": {
        "colab": {
          "base_uri": "https://localhost:8080/"
        },
        "id": "02wV_-g1kK8z",
        "outputId": "21a69150-8219-400c-b696-b13bc38e75eb"
      },
      "execution_count": null,
      "outputs": [
        {
          "output_type": "stream",
          "name": "stdout",
          "text": [
            "0.99999999999\n",
            "0.9999996829318346\n"
          ]
        }
      ]
    },
    {
      "cell_type": "code",
      "source": [
        "print(math.e)"
      ],
      "metadata": {
        "colab": {
          "base_uri": "https://localhost:8080/"
        },
        "id": "mMH3mZBElB6z",
        "outputId": "cc3b74f9-50b4-4873-ec21-bd559f68630a"
      },
      "execution_count": null,
      "outputs": [
        {
          "output_type": "stream",
          "name": "stdout",
          "text": [
            "2.718281828459045\n"
          ]
        }
      ]
    },
    {
      "cell_type": "code",
      "source": [
        "print(math.exp(5))"
      ],
      "metadata": {
        "colab": {
          "base_uri": "https://localhost:8080/"
        },
        "id": "9FVGY4sllRGQ",
        "outputId": "fc2035af-8d6c-49e4-b7bc-0a00ba853663"
      },
      "execution_count": null,
      "outputs": [
        {
          "output_type": "stream",
          "name": "stdout",
          "text": [
            "148.4131591025766\n"
          ]
        }
      ]
    },
    {
      "cell_type": "markdown",
      "source": [
        "# Libería Platform"
      ],
      "metadata": {
        "id": "Qv1GRhT6lV-V"
      }
    },
    {
      "cell_type": "code",
      "source": [
        "from platform import platform\n",
        "print(platform())\n",
        "print(platform(1))\n",
        "print(platform(0,1))\n",
        "platform()"
      ],
      "metadata": {
        "colab": {
          "base_uri": "https://localhost:8080/",
          "height": 88
        },
        "id": "_5sCG-WalY9D",
        "outputId": "defda2ab-7075-4bf3-942d-34b01b0dc3fa"
      },
      "execution_count": null,
      "outputs": [
        {
          "output_type": "stream",
          "name": "stdout",
          "text": [
            "Linux-5.4.144+-x86_64-with-Ubuntu-18.04-bionic\n",
            "Linux-5.4.144+-x86_64-with-Ubuntu-18.04-bionic\n",
            "Linux-5.4.144+-x86_64-with-glibc2.26\n"
          ]
        },
        {
          "output_type": "execute_result",
          "data": {
            "application/vnd.google.colaboratory.intrinsic+json": {
              "type": "string"
            },
            "text/plain": [
              "'Linux-5.4.144+-x86_64-with-Ubuntu-18.04-bionic'"
            ]
          },
          "metadata": {},
          "execution_count": 42
        }
      ]
    },
    {
      "cell_type": "code",
      "source": [
        "from platform import machine\n",
        "print(machine())\n"
      ],
      "metadata": {
        "colab": {
          "base_uri": "https://localhost:8080/"
        },
        "id": "3cpTXh5rl3Qw",
        "outputId": "1efc0c64-fff8-46f5-fccd-00d2edcdc18d"
      },
      "execution_count": null,
      "outputs": [
        {
          "output_type": "stream",
          "name": "stdout",
          "text": [
            "x86_64\n"
          ]
        }
      ]
    },
    {
      "cell_type": "code",
      "source": [
        "from platform import processor\n",
        "print(processor())"
      ],
      "metadata": {
        "colab": {
          "base_uri": "https://localhost:8080/"
        },
        "id": "f7r5Go0smyih",
        "outputId": "02bf8ef2-a7c4-4328-c3bb-dfb69f09d4a9"
      },
      "execution_count": null,
      "outputs": [
        {
          "output_type": "stream",
          "name": "stdout",
          "text": [
            "x86_64\n"
          ]
        }
      ]
    },
    {
      "cell_type": "code",
      "source": [
        "from platform import system\n",
        "print(system())"
      ],
      "metadata": {
        "colab": {
          "base_uri": "https://localhost:8080/"
        },
        "id": "R2G6ngkSm6uo",
        "outputId": "20798d29-e321-4888-f4b5-dba1fe01bf57"
      },
      "execution_count": null,
      "outputs": [
        {
          "output_type": "stream",
          "name": "stdout",
          "text": [
            "Linux\n"
          ]
        }
      ]
    },
    {
      "cell_type": "code",
      "source": [
        "from platform import version\n",
        "print( version())"
      ],
      "metadata": {
        "colab": {
          "base_uri": "https://localhost:8080/"
        },
        "id": "nPl4hcBUnDEn",
        "outputId": "1e548bd0-a6ce-43e4-944e-a93f1c0194cf"
      },
      "execution_count": null,
      "outputs": [
        {
          "output_type": "stream",
          "name": "stdout",
          "text": [
            "#1 SMP Tue Dec 7 09:58:10 PST 2021\n"
          ]
        }
      ]
    },
    {
      "cell_type": "markdown",
      "source": [
        "# Librería OS\n"
      ],
      "metadata": {
        "id": "dIAHDJ_jnMGh"
      }
    },
    {
      "cell_type": "code",
      "source": [
        "import os"
      ],
      "metadata": {
        "id": "hWWnGmMdnMvG"
      },
      "execution_count": null,
      "outputs": []
    },
    {
      "cell_type": "code",
      "source": [
        "os.device_encoding"
      ],
      "metadata": {
        "colab": {
          "base_uri": "https://localhost:8080/"
        },
        "id": "3oswrcndnVDS",
        "outputId": "c76f186b-99ab-460f-bd82-ee0c14093387"
      },
      "execution_count": null,
      "outputs": [
        {
          "output_type": "execute_result",
          "data": {
            "text/plain": [
              "<function posix.device_encoding>"
            ]
          },
          "metadata": {},
          "execution_count": 51
        }
      ]
    },
    {
      "cell_type": "code",
      "source": [
        "dir(os)"
      ],
      "metadata": {
        "colab": {
          "base_uri": "https://localhost:8080/"
        },
        "id": "JkI1TCnPncfF",
        "outputId": "ce756ac3-225f-4c9f-aadb-4e109b368782"
      },
      "execution_count": null,
      "outputs": [
        {
          "output_type": "execute_result",
          "data": {
            "text/plain": [
              "['CLD_CONTINUED',\n",
              " 'CLD_DUMPED',\n",
              " 'CLD_EXITED',\n",
              " 'CLD_TRAPPED',\n",
              " 'DirEntry',\n",
              " 'EX_CANTCREAT',\n",
              " 'EX_CONFIG',\n",
              " 'EX_DATAERR',\n",
              " 'EX_IOERR',\n",
              " 'EX_NOHOST',\n",
              " 'EX_NOINPUT',\n",
              " 'EX_NOPERM',\n",
              " 'EX_NOUSER',\n",
              " 'EX_OK',\n",
              " 'EX_OSERR',\n",
              " 'EX_OSFILE',\n",
              " 'EX_PROTOCOL',\n",
              " 'EX_SOFTWARE',\n",
              " 'EX_TEMPFAIL',\n",
              " 'EX_UNAVAILABLE',\n",
              " 'EX_USAGE',\n",
              " 'F_LOCK',\n",
              " 'F_OK',\n",
              " 'F_TEST',\n",
              " 'F_TLOCK',\n",
              " 'F_ULOCK',\n",
              " 'GRND_NONBLOCK',\n",
              " 'GRND_RANDOM',\n",
              " 'MutableMapping',\n",
              " 'NGROUPS_MAX',\n",
              " 'O_ACCMODE',\n",
              " 'O_APPEND',\n",
              " 'O_ASYNC',\n",
              " 'O_CLOEXEC',\n",
              " 'O_CREAT',\n",
              " 'O_DIRECT',\n",
              " 'O_DIRECTORY',\n",
              " 'O_DSYNC',\n",
              " 'O_EXCL',\n",
              " 'O_LARGEFILE',\n",
              " 'O_NDELAY',\n",
              " 'O_NOATIME',\n",
              " 'O_NOCTTY',\n",
              " 'O_NOFOLLOW',\n",
              " 'O_NONBLOCK',\n",
              " 'O_PATH',\n",
              " 'O_RDONLY',\n",
              " 'O_RDWR',\n",
              " 'O_RSYNC',\n",
              " 'O_SYNC',\n",
              " 'O_TMPFILE',\n",
              " 'O_TRUNC',\n",
              " 'O_WRONLY',\n",
              " 'POSIX_FADV_DONTNEED',\n",
              " 'POSIX_FADV_NOREUSE',\n",
              " 'POSIX_FADV_NORMAL',\n",
              " 'POSIX_FADV_RANDOM',\n",
              " 'POSIX_FADV_SEQUENTIAL',\n",
              " 'POSIX_FADV_WILLNEED',\n",
              " 'PRIO_PGRP',\n",
              " 'PRIO_PROCESS',\n",
              " 'PRIO_USER',\n",
              " 'P_ALL',\n",
              " 'P_NOWAIT',\n",
              " 'P_NOWAITO',\n",
              " 'P_PGID',\n",
              " 'P_PID',\n",
              " 'P_WAIT',\n",
              " 'PathLike',\n",
              " 'RTLD_DEEPBIND',\n",
              " 'RTLD_GLOBAL',\n",
              " 'RTLD_LAZY',\n",
              " 'RTLD_LOCAL',\n",
              " 'RTLD_NODELETE',\n",
              " 'RTLD_NOLOAD',\n",
              " 'RTLD_NOW',\n",
              " 'RWF_DSYNC',\n",
              " 'RWF_HIPRI',\n",
              " 'RWF_NOWAIT',\n",
              " 'RWF_SYNC',\n",
              " 'R_OK',\n",
              " 'SCHED_BATCH',\n",
              " 'SCHED_FIFO',\n",
              " 'SCHED_IDLE',\n",
              " 'SCHED_OTHER',\n",
              " 'SCHED_RESET_ON_FORK',\n",
              " 'SCHED_RR',\n",
              " 'SEEK_CUR',\n",
              " 'SEEK_DATA',\n",
              " 'SEEK_END',\n",
              " 'SEEK_HOLE',\n",
              " 'SEEK_SET',\n",
              " 'ST_APPEND',\n",
              " 'ST_MANDLOCK',\n",
              " 'ST_NOATIME',\n",
              " 'ST_NODEV',\n",
              " 'ST_NODIRATIME',\n",
              " 'ST_NOEXEC',\n",
              " 'ST_NOSUID',\n",
              " 'ST_RDONLY',\n",
              " 'ST_RELATIME',\n",
              " 'ST_SYNCHRONOUS',\n",
              " 'ST_WRITE',\n",
              " 'TMP_MAX',\n",
              " 'WCONTINUED',\n",
              " 'WCOREDUMP',\n",
              " 'WEXITED',\n",
              " 'WEXITSTATUS',\n",
              " 'WIFCONTINUED',\n",
              " 'WIFEXITED',\n",
              " 'WIFSIGNALED',\n",
              " 'WIFSTOPPED',\n",
              " 'WNOHANG',\n",
              " 'WNOWAIT',\n",
              " 'WSTOPPED',\n",
              " 'WSTOPSIG',\n",
              " 'WTERMSIG',\n",
              " 'WUNTRACED',\n",
              " 'W_OK',\n",
              " 'XATTR_CREATE',\n",
              " 'XATTR_REPLACE',\n",
              " 'XATTR_SIZE_MAX',\n",
              " 'X_OK',\n",
              " '_Environ',\n",
              " '__all__',\n",
              " '__builtins__',\n",
              " '__cached__',\n",
              " '__doc__',\n",
              " '__file__',\n",
              " '__loader__',\n",
              " '__name__',\n",
              " '__package__',\n",
              " '__spec__',\n",
              " '_check_methods',\n",
              " '_execvpe',\n",
              " '_exists',\n",
              " '_exit',\n",
              " '_fspath',\n",
              " '_fwalk',\n",
              " '_get_exports_list',\n",
              " '_putenv',\n",
              " '_spawnvef',\n",
              " '_unsetenv',\n",
              " '_wrap_close',\n",
              " 'abc',\n",
              " 'abort',\n",
              " 'access',\n",
              " 'altsep',\n",
              " 'chdir',\n",
              " 'chmod',\n",
              " 'chown',\n",
              " 'chroot',\n",
              " 'close',\n",
              " 'closerange',\n",
              " 'confstr',\n",
              " 'confstr_names',\n",
              " 'cpu_count',\n",
              " 'ctermid',\n",
              " 'curdir',\n",
              " 'defpath',\n",
              " 'device_encoding',\n",
              " 'devnull',\n",
              " 'dup',\n",
              " 'dup2',\n",
              " 'environ',\n",
              " 'environb',\n",
              " 'error',\n",
              " 'execl',\n",
              " 'execle',\n",
              " 'execlp',\n",
              " 'execlpe',\n",
              " 'execv',\n",
              " 'execve',\n",
              " 'execvp',\n",
              " 'execvpe',\n",
              " 'extsep',\n",
              " 'fchdir',\n",
              " 'fchmod',\n",
              " 'fchown',\n",
              " 'fdatasync',\n",
              " 'fdopen',\n",
              " 'fork',\n",
              " 'forkpty',\n",
              " 'fpathconf',\n",
              " 'fsdecode',\n",
              " 'fsencode',\n",
              " 'fspath',\n",
              " 'fstat',\n",
              " 'fstatvfs',\n",
              " 'fsync',\n",
              " 'ftruncate',\n",
              " 'fwalk',\n",
              " 'get_blocking',\n",
              " 'get_exec_path',\n",
              " 'get_inheritable',\n",
              " 'get_terminal_size',\n",
              " 'getcwd',\n",
              " 'getcwdb',\n",
              " 'getegid',\n",
              " 'getenv',\n",
              " 'getenvb',\n",
              " 'geteuid',\n",
              " 'getgid',\n",
              " 'getgrouplist',\n",
              " 'getgroups',\n",
              " 'getloadavg',\n",
              " 'getlogin',\n",
              " 'getpgid',\n",
              " 'getpgrp',\n",
              " 'getpid',\n",
              " 'getppid',\n",
              " 'getpriority',\n",
              " 'getrandom',\n",
              " 'getresgid',\n",
              " 'getresuid',\n",
              " 'getsid',\n",
              " 'getuid',\n",
              " 'getxattr',\n",
              " 'initgroups',\n",
              " 'isatty',\n",
              " 'kill',\n",
              " 'killpg',\n",
              " 'lchown',\n",
              " 'linesep',\n",
              " 'link',\n",
              " 'listdir',\n",
              " 'listxattr',\n",
              " 'lockf',\n",
              " 'lseek',\n",
              " 'lstat',\n",
              " 'major',\n",
              " 'makedev',\n",
              " 'makedirs',\n",
              " 'minor',\n",
              " 'mkdir',\n",
              " 'mkfifo',\n",
              " 'mknod',\n",
              " 'name',\n",
              " 'nice',\n",
              " 'open',\n",
              " 'openpty',\n",
              " 'pardir',\n",
              " 'path',\n",
              " 'pathconf',\n",
              " 'pathconf_names',\n",
              " 'pathsep',\n",
              " 'pipe',\n",
              " 'pipe2',\n",
              " 'popen',\n",
              " 'posix_fadvise',\n",
              " 'posix_fallocate',\n",
              " 'pread',\n",
              " 'preadv',\n",
              " 'putenv',\n",
              " 'pwrite',\n",
              " 'pwritev',\n",
              " 'read',\n",
              " 'readlink',\n",
              " 'readv',\n",
              " 'register_at_fork',\n",
              " 'remove',\n",
              " 'removedirs',\n",
              " 'removexattr',\n",
              " 'rename',\n",
              " 'renames',\n",
              " 'replace',\n",
              " 'rmdir',\n",
              " 'scandir',\n",
              " 'sched_get_priority_max',\n",
              " 'sched_get_priority_min',\n",
              " 'sched_getaffinity',\n",
              " 'sched_getparam',\n",
              " 'sched_getscheduler',\n",
              " 'sched_param',\n",
              " 'sched_rr_get_interval',\n",
              " 'sched_setaffinity',\n",
              " 'sched_setparam',\n",
              " 'sched_setscheduler',\n",
              " 'sched_yield',\n",
              " 'sendfile',\n",
              " 'sep',\n",
              " 'set_blocking',\n",
              " 'set_inheritable',\n",
              " 'setegid',\n",
              " 'seteuid',\n",
              " 'setgid',\n",
              " 'setgroups',\n",
              " 'setpgid',\n",
              " 'setpgrp',\n",
              " 'setpriority',\n",
              " 'setregid',\n",
              " 'setresgid',\n",
              " 'setresuid',\n",
              " 'setreuid',\n",
              " 'setsid',\n",
              " 'setuid',\n",
              " 'setxattr',\n",
              " 'spawnl',\n",
              " 'spawnle',\n",
              " 'spawnlp',\n",
              " 'spawnlpe',\n",
              " 'spawnv',\n",
              " 'spawnve',\n",
              " 'spawnvp',\n",
              " 'spawnvpe',\n",
              " 'st',\n",
              " 'stat',\n",
              " 'stat_result',\n",
              " 'statvfs',\n",
              " 'statvfs_result',\n",
              " 'strerror',\n",
              " 'supports_bytes_environ',\n",
              " 'supports_dir_fd',\n",
              " 'supports_effective_ids',\n",
              " 'supports_fd',\n",
              " 'supports_follow_symlinks',\n",
              " 'symlink',\n",
              " 'sync',\n",
              " 'sys',\n",
              " 'sysconf',\n",
              " 'sysconf_names',\n",
              " 'system',\n",
              " 'tcgetpgrp',\n",
              " 'tcsetpgrp',\n",
              " 'terminal_size',\n",
              " 'times',\n",
              " 'times_result',\n",
              " 'truncate',\n",
              " 'ttyname',\n",
              " 'umask',\n",
              " 'uname',\n",
              " 'uname_result',\n",
              " 'unlink',\n",
              " 'unsetenv',\n",
              " 'urandom',\n",
              " 'utime',\n",
              " 'wait',\n",
              " 'wait3',\n",
              " 'wait4',\n",
              " 'waitid',\n",
              " 'waitid_result',\n",
              " 'waitpid',\n",
              " 'walk',\n",
              " 'write',\n",
              " 'writev']"
            ]
          },
          "metadata": {},
          "execution_count": 53
        }
      ]
    },
    {
      "cell_type": "code",
      "source": [
        "pip install matplotlib"
      ],
      "metadata": {
        "colab": {
          "base_uri": "https://localhost:8080/"
        },
        "id": "GZ3PlgQPoAx3",
        "outputId": "df02bb5c-b231-4a6c-eff1-8752b6327834"
      },
      "execution_count": null,
      "outputs": [
        {
          "output_type": "stream",
          "name": "stdout",
          "text": [
            "Requirement already satisfied: matplotlib in /usr/local/lib/python3.7/dist-packages (3.2.2)\n",
            "Requirement already satisfied: numpy>=1.11 in /usr/local/lib/python3.7/dist-packages (from matplotlib) (1.21.5)\n",
            "Requirement already satisfied: pyparsing!=2.0.4,!=2.1.2,!=2.1.6,>=2.0.1 in /usr/local/lib/python3.7/dist-packages (from matplotlib) (3.0.7)\n",
            "Requirement already satisfied: kiwisolver>=1.0.1 in /usr/local/lib/python3.7/dist-packages (from matplotlib) (1.3.2)\n",
            "Requirement already satisfied: python-dateutil>=2.1 in /usr/local/lib/python3.7/dist-packages (from matplotlib) (2.8.2)\n",
            "Requirement already satisfied: cycler>=0.10 in /usr/local/lib/python3.7/dist-packages (from matplotlib) (0.11.0)\n",
            "Requirement already satisfied: six>=1.5 in /usr/local/lib/python3.7/dist-packages (from python-dateutil>=2.1->matplotlib) (1.15.0)\n"
          ]
        }
      ]
    },
    {
      "cell_type": "code",
      "source": [
        "import matplotlib.pyplot as plt\n",
        "import numpy as np\n",
        "# make data:\n",
        "np.random.seed(3)\n",
        "x= 0.5 + np.arange(8)\n",
        "y=np.random.uniform(2,7,len(x))\n",
        "#plot\n",
        "fig,ax = plt.subplots()\n",
        "ax.bar(x,y, width=1, edgecolor=\"white\", linewidth=0.7)\n",
        "ax.set(xlim=(0,8), xticks=np.arange(1,8),\n",
        "ylim=(0,8),yticks=np.arange(1,8))\n",
        "\n",
        "plt.show()\n",
        "\n"
      ],
      "metadata": {
        "colab": {
          "base_uri": "https://localhost:8080/",
          "height": 265
        },
        "id": "EQweo955ocNd",
        "outputId": "0903cbae-83f4-40e3-baa1-685f4b3b7eee"
      },
      "execution_count": null,
      "outputs": [
        {
          "output_type": "display_data",
          "data": {
            "image/png": "[encoded data removed]",
            "text/plain": [
              "<Figure size 432x288 with 1 Axes>"
            ]
          },
          "metadata": {
            "needs_background": "light"
          }
        }
      ]
    },
    {
      "cell_type": "markdown",
      "source": [
        "# Manejo de Excepciones"
      ],
      "metadata": {
        "id": "jmS4AQ-7kFyM"
      }
    },
    {
      "cell_type": "markdown",
      "source": [
        "Ejemplo sin *excepciones*"
      ],
      "metadata": {
        "id": "gNxt9_V1rs8g"
      }
    },
    {
      "cell_type": "code",
      "source": [
        "print(1/0)"
      ],
      "metadata": {
        "colab": {
          "base_uri": "https://localhost:8080/",
          "height": 165
        },
        "id": "GVVUYaMckJ8X",
        "outputId": "25913356-8f58-47f2-ca12-6efd21959dc4"
      },
      "execution_count": null,
      "outputs": [
        {
          "output_type": "error",
          "ename": "ZeroDivisionError",
          "evalue": "ignored",
          "traceback": [
            "\u001b[0;31m---------------------------------------------------------------------------\u001b[0m",
            "\u001b[0;31mZeroDivisionError\u001b[0m                         Traceback (most recent call last)",
            "\u001b[0;32m<ipython-input-2-2fc232d1511a>\u001b[0m in \u001b[0;36m<module>\u001b[0;34m()\u001b[0m\n\u001b[0;32m----> 1\u001b[0;31m \u001b[0mprint\u001b[0m\u001b[0;34m(\u001b[0m\u001b[0;36m1\u001b[0m\u001b[0;34m/\u001b[0m\u001b[0;36m0\u001b[0m\u001b[0;34m)\u001b[0m\u001b[0;34m\u001b[0m\u001b[0;34m\u001b[0m\u001b[0m\n\u001b[0m",
            "\u001b[0;31mZeroDivisionError\u001b[0m: division by zero"
          ]
        }
      ]
    },
    {
      "cell_type": "code",
      "source": [
        "a=1\n",
        "b=0\n",
        "d=a/b\n",
        "print(d)"
      ],
      "metadata": {
        "colab": {
          "base_uri": "https://localhost:8080/",
          "height": 217
        },
        "id": "1J2F-2kMkRUL",
        "outputId": "16388d2f-cebe-49de-d395-3318f222a80a"
      },
      "execution_count": null,
      "outputs": [
        {
          "output_type": "error",
          "ename": "ZeroDivisionError",
          "evalue": "ignored",
          "traceback": [
            "\u001b[0;31m---------------------------------------------------------------------------\u001b[0m",
            "\u001b[0;31mZeroDivisionError\u001b[0m                         Traceback (most recent call last)",
            "\u001b[0;32m<ipython-input-3-383a6c68d33e>\u001b[0m in \u001b[0;36m<module>\u001b[0;34m()\u001b[0m\n\u001b[1;32m      1\u001b[0m \u001b[0ma\u001b[0m\u001b[0;34m=\u001b[0m\u001b[0;36m1\u001b[0m\u001b[0;34m\u001b[0m\u001b[0;34m\u001b[0m\u001b[0m\n\u001b[1;32m      2\u001b[0m \u001b[0mb\u001b[0m\u001b[0;34m=\u001b[0m\u001b[0;36m0\u001b[0m\u001b[0;34m\u001b[0m\u001b[0;34m\u001b[0m\u001b[0m\n\u001b[0;32m----> 3\u001b[0;31m \u001b[0md\u001b[0m\u001b[0;34m=\u001b[0m\u001b[0ma\u001b[0m\u001b[0;34m/\u001b[0m\u001b[0mb\u001b[0m\u001b[0;34m\u001b[0m\u001b[0;34m\u001b[0m\u001b[0m\n\u001b[0m\u001b[1;32m      4\u001b[0m \u001b[0mprint\u001b[0m\u001b[0;34m(\u001b[0m\u001b[0md\u001b[0m\u001b[0;34m)\u001b[0m\u001b[0;34m\u001b[0m\u001b[0;34m\u001b[0m\u001b[0m\n",
            "\u001b[0;31mZeroDivisionError\u001b[0m: division by zero"
          ]
        }
      ]
    },
    {
      "cell_type": "markdown",
      "source": [
        "Ejemplo con *excepciones*"
      ],
      "metadata": {
        "id": "FvUhyc6orxcT"
      }
    },
    {
      "cell_type": "code",
      "source": [
        "a=10\n",
        "b=0\n",
        "result=0\n",
        "try:\n",
        "  result = a/b\n",
        "except ZeroDivisionError:\n",
        "  print('¡No se puede dividir por cero!')\n",
        "print('Resultado -->', result)"
      ],
      "metadata": {
        "colab": {
          "base_uri": "https://localhost:8080/"
        },
        "id": "RyGjJzzQpWwo",
        "outputId": "c657be81-b3a8-4597-d8a4-1d8f1f9c3e57"
      },
      "execution_count": null,
      "outputs": [
        {
          "output_type": "stream",
          "name": "stdout",
          "text": [
            "¡No se puede dividir por cero!\n",
            "Resultado --> 0\n"
          ]
        }
      ]
    },
    {
      "cell_type": "code",
      "source": [
        "a=10\n",
        "b=0\n",
        "result =0\n",
        "try:\n",
        "  result = a/b\n",
        "except Exception:\n",
        "  print('¡Operación Matematica No aceptada!')\n",
        "print('Resultado -->', result)"
      ],
      "metadata": {
        "colab": {
          "base_uri": "https://localhost:8080/"
        },
        "id": "4013b7Oup5k7",
        "outputId": "1849864b-df04-4080-e2c3-c0e4a1d2e8e8"
      },
      "execution_count": null,
      "outputs": [
        {
          "output_type": "stream",
          "name": "stdout",
          "text": [
            "¡Operación Matematica No aceptada!\n",
            "Resultado --> 0\n"
          ]
        }
      ]
    },
    {
      "cell_type": "code",
      "source": [
        "a=10\n",
        "b=0\n",
        "result=0\n",
        "try:\n",
        "  result = a/b\n",
        "except Exception:\n",
        "  print('¡Operación Matematica No aceptada!')\n",
        "except ZeroDivisionError:\n",
        "  print('¡No se puede dividir por cero!')\n",
        "print('Resultado -->', result)"
      ],
      "metadata": {
        "colab": {
          "base_uri": "https://localhost:8080/"
        },
        "id": "7_4fpeZ9q6Uh",
        "outputId": "6c12c2af-811c-40f6-c6bc-d6248586f371"
      },
      "execution_count": null,
      "outputs": [
        {
          "output_type": "stream",
          "name": "stdout",
          "text": [
            "¡Operación Matematica No aceptada!\n",
            "Resultado --> 0\n"
          ]
        }
      ]
    },
    {
      "cell_type": "code",
      "source": [
        "a=10\n",
        "b=0\n",
        "result=0\n",
        "try:\n",
        "  result = a/b\n",
        "except ZeroDivisionError:\n",
        "  print('¡No se puede dividir por cero!')\n",
        "except Exception:\n",
        "  print('¡Operación Matematica No aceptada!')\n",
        "print('Resultado -->', result)"
      ],
      "metadata": {
        "colab": {
          "base_uri": "https://localhost:8080/"
        },
        "id": "35-WC3SIrRdM",
        "outputId": "95d1fd93-e65a-49b2-a19d-d446c2a93011"
      },
      "execution_count": null,
      "outputs": [
        {
          "output_type": "stream",
          "name": "stdout",
          "text": [
            "¡No se puede dividir por cero!\n",
            "Resultado --> 0\n"
          ]
        }
      ]
    },
    {
      "cell_type": "code",
      "source": [
        "a=10\n",
        "b=0\n",
        "result=0\n",
        "try:\n",
        "  result = a/b\n",
        "except ZeroDivisionError:\n",
        "  print('¡No se puede dividir por cero!')\n",
        "except Exception:\n",
        "  print('¡Operación Matematica No aceptada!')\n",
        "finally:\n",
        "  print('Buen día')\n",
        "print('Resultado -->', result)"
      ],
      "metadata": {
        "colab": {
          "base_uri": "https://localhost:8080/"
        },
        "id": "64GqkQNxugdy",
        "outputId": "fa35adf2-9722-4c1b-f52c-477ba82a8442"
      },
      "execution_count": null,
      "outputs": [
        {
          "output_type": "stream",
          "name": "stdout",
          "text": [
            "¡No se puede dividir por cero!\n",
            "Buen día\n",
            "Resultado --> 0\n"
          ]
        }
      ]
    },
    {
      "cell_type": "code",
      "source": [
        "a=10\n",
        "b=0\n",
        "result=0\n",
        "try:\n",
        "  print('Operando...')\n",
        "  result = a/b\n",
        "  print('Resultado -->', result)\n",
        "except ZeroDivisionError:\n",
        "  print('¡No se puede dividir por cero!')\n",
        "except Exception:\n",
        "  print('¡Operación Matematica No aceptada!')\n",
        "finally:\n",
        "  print('Buen día')\n",
        "  print('M&M')\n"
      ],
      "metadata": {
        "colab": {
          "base_uri": "https://localhost:8080/"
        },
        "id": "PUZsHoWAvVvT",
        "outputId": "53ea41e4-904e-4233-bf8f-45ce6ac49824"
      },
      "execution_count": null,
      "outputs": [
        {
          "output_type": "stream",
          "name": "stdout",
          "text": [
            "Operando...\n",
            "¡No se puede dividir por cero!\n",
            "Buen día\n",
            "M&M\n"
          ]
        }
      ]
    },
    {
      "cell_type": "code",
      "source": [
        "a=10\n",
        "b=5\n",
        "result=0\n",
        "try:\n",
        "  print('Operando...')\n",
        "  result = a/b\n",
        "  print('Resultado -->', result)\n",
        "except ZeroDivisionError:\n",
        "  print('¡No se puede dividir por cero!')\n",
        "except Exception:\n",
        "  print('¡Operación Matematica No aceptada!')\n",
        "\n",
        "print('Buen día')\n",
        "print('M&M')\n"
      ],
      "metadata": {
        "colab": {
          "base_uri": "https://localhost:8080/"
        },
        "id": "63BCMN2Dv-cd",
        "outputId": "d47a94ad-36b8-41a0-9d3a-d44cb061ac81"
      },
      "execution_count": null,
      "outputs": [
        {
          "output_type": "stream",
          "name": "stdout",
          "text": [
            "Operando...\n",
            "Resultado --> 2.0\n",
            "Buen día\n",
            "M&M\n"
          ]
        }
      ]
    },
    {
      "cell_type": "code",
      "source": [
        "a=10\n",
        "b=0\n",
        "result=0\n",
        "try:\n",
        "  print('Operando...')\n",
        "  result = a/b\n",
        "except ZeroDivisionError:\n",
        "  print('¡No se puede dividir por cero!')\n",
        "except Exception:\n",
        "  print('¡Operación Matematica No aceptada!')\n",
        "else:\n",
        "  print('Resultado -->', result)\n",
        "finally:\n",
        "  print('Buen día')\n",
        "  print('M&M')\n"
      ],
      "metadata": {
        "colab": {
          "base_uri": "https://localhost:8080/"
        },
        "id": "nmS--mPizpy9",
        "outputId": "678c98ff-73b5-4129-cec6-f9cf37d437e7"
      },
      "execution_count": null,
      "outputs": [
        {
          "output_type": "stream",
          "name": "stdout",
          "text": [
            "Operando...\n",
            "¡No se puede dividir por cero!\n",
            "Buen día\n",
            "M&M\n"
          ]
        }
      ]
    },
    {
      "cell_type": "code",
      "source": [
        "a=10\n",
        "b=100\n",
        "result=0\n",
        "try:\n",
        "  print('Operando...')\n",
        "  result = a/b\n",
        "except ZeroDivisionError:\n",
        "  print('¡No se puede dividir por cero!')\n",
        "else:\n",
        "  print('Resultado -->', result)\n"
      ],
      "metadata": {
        "colab": {
          "base_uri": "https://localhost:8080/"
        },
        "id": "qdzd74CW0HdA",
        "outputId": "2537ef97-b543-4c9f-d10e-98383b6eaa35"
      },
      "execution_count": null,
      "outputs": [
        {
          "output_type": "stream",
          "name": "stdout",
          "text": [
            "Operando...\n",
            "Resultado --> 0.1\n"
          ]
        }
      ]
    },
    {
      "cell_type": "code",
      "source": [
        "while (True):\n",
        "  try:\n",
        "    n=float(input('Introduce un número: '))\n",
        "    m=4\n",
        "    prinnt(\"{}/{}={}\".format(n,m,n/m))\n",
        "    break #Importante romper la interación si todo ha salido bien\n",
        "  except Exception:\n",
        "    print(\"Ha ocurrido un error, introduce bien el número\")"
      ],
      "metadata": {
        "id": "yrF32NzH7fA0"
      },
      "execution_count": null,
      "outputs": []
    },
    {
      "cell_type": "code",
      "source": [
        "while (True):\n",
        " result=0\n",
        " try:\n",
        "   a=float(input('Introduce un número A:'))\n",
        "   b=float(input('Introduce un número B:'))\n",
        "   print('Operando...')\n",
        "   result = a/b\n",
        " except ZeroDivisionError:\n",
        "   print('¡No se puede dividir por cero!')\n",
        " except Exception:\n",
        "   print('¡Operación Matematica No aceptada!')\n",
        " else:\n",
        "   print('Resultado -->', result)\n",
        "   break\n",
        " finally:\n",
        "  print('Buen día')\n",
        "  print('M&M')"
      ],
      "metadata": {
        "id": "7O9-bpYW5B_X"
      },
      "execution_count": null,
      "outputs": []
    },
    {
      "cell_type": "code",
      "source": [
        "def division(a,b):\n",
        "  try:\n",
        "    result =a/b\n",
        "  except ZeroDivisionError:\n",
        "    print('¡No se puede dividir por cero!')\n",
        "  else:\n",
        "    print(result)\n",
        "  finally: \n",
        "    print('*************************')\n",
        "    print('M&M')\n",
        "\n",
        "print('Ejemploo 1 ->')\n",
        "division(5,0)\n",
        "print('Ejemplo 2 ->')\n",
        "division(5,2)"
      ],
      "metadata": {
        "colab": {
          "base_uri": "https://localhost:8080/"
        },
        "id": "t-GZSuuhPyup",
        "outputId": "1c46b6f2-c7aa-4586-c427-236084d36b1e"
      },
      "execution_count": null,
      "outputs": [
        {
          "output_type": "stream",
          "name": "stdout",
          "text": [
            "Ejemploo 1 ->\n",
            "¡No se puede dividir por cero!\n",
            "*************************\n",
            "M&M\n",
            "Ejemplo 2 ->\n",
            "2.5\n",
            "*************************\n",
            "M&M\n"
          ]
        }
      ]
    },
    {
      "cell_type": "code",
      "source": [
        "while True:\n",
        "  try:\n",
        "    x = int(input(\"Indica un número: \"))\n",
        "  except ValueError:\n",
        "    print(\"Oops! No es un número válido. Intenta de nuevo...\")\n",
        "  else:\n",
        "      print(\"Perfecto, indicaste un digito\")\n",
        "      break"
      ],
      "metadata": {
        "colab": {
          "base_uri": "https://localhost:8080/"
        },
        "id": "-0rYZXBtR_pr",
        "outputId": "39bac9c4-3aed-4af4-d133-6194d0294265"
      },
      "execution_count": null,
      "outputs": [
        {
          "output_type": "stream",
          "name": "stdout",
          "text": [
            "Indica un número: 3\n",
            "Perfecto, indicaste un digito\n"
          ]
        }
      ]
    },
    {
      "cell_type": "code",
      "source": [
        "def division(a,b):\n",
        "  try:\n",
        "    result =a/b\n",
        "  except ZeroDivisionError:\n",
        "    print('¡No se puede dividir por cero!')\n",
        "  else :\n",
        "    print(result)\n",
        "  finally:\n",
        "    print(\"*************\")\n",
        "    print(\"M&M\")\n",
        "  \n",
        "X=1\n",
        "while x < 5:\n",
        "  y =int(input(\"Indica un número:\"))\n",
        "  z =int(\"Indica un número\")"
      ],
      "metadata": {
        "id": "jIZPpYldeVEp"
      },
      "execution_count": null,
      "outputs": []
    },
    {
      "cell_type": "code",
      "source": [
        "try:\n",
        "  f = open(\"Clase hoy.txt\")  # El fichero no existe\n",
        "except FileNotFoundError :\n",
        "  print('¡El fichero no existe!')\n",
        "else:\n",
        "  print(f.read())"
      ],
      "metadata": {
        "colab": {
          "base_uri": "https://localhost:8080/"
        },
        "id": "kiHBkSmLVD9Y",
        "outputId": "6470c361-7c93-439b-a732-a558803700d0"
      },
      "execution_count": null,
      "outputs": [
        {
          "output_type": "stream",
          "name": "stdout",
          "text": [
            "1|Mario|Sanchez|Lopez\n",
            "2|Monica|Najera|Hernandez \n",
            "3|Josefina|Jimenez|Hernandez\n",
            "4|Marisol|Labra|Perez\n",
            "5|Javier|Moctezuma|Jimenez\n"
          ]
        }
      ]
    },
    {
      "cell_type": "code",
      "source": [
        "import pandas as pd\n",
        "try:\n",
        "  f=pd.read_excel('Ingresos2020.xlsx')\n",
        "except FileNotFoundError :\n",
        "  print('¡El fichero no existe')\n",
        "else:\n",
        "  print(f.head())\n",
        "  "
      ],
      "metadata": {
        "colab": {
          "base_uri": "https://localhost:8080/"
        },
        "id": "mYeR2XN3ZCfo",
        "outputId": "140ebf56-8153-46b9-c7b7-9a97121c909a"
      },
      "execution_count": null,
      "outputs": [
        {
          "output_type": "stream",
          "name": "stdout",
          "text": [
            "  Ingresos            Unnamed: 1 Unnamed: 2 Unnamed: 3 Unnamed: 4 Unnamed: 5  \\\n",
            "0      NaN                   NaN        NaN        NaN        NaN        NaN   \n",
            "1      NaN                   NaN        NaN        NaN        NaN        NaN   \n",
            "2      NaN                   NaN        NaN        NaN        NaN        NaN   \n",
            "3      NaN                   NaN        NaN        NaN        NaN        NaN   \n",
            "4      NaN  Etiquetas de columna        NaN        NaN        NaN        NaN   \n",
            "\n",
            "  Unnamed: 6  \n",
            "0        NaN  \n",
            "1        NaN  \n",
            "2        NaN  \n",
            "3        NaN  \n",
            "4        NaN  \n"
          ]
        }
      ]
    },
    {
      "cell_type": "code",
      "source": [
        "mensaje1 = str.capitalize('esto es una PRUEBA de capitalize')\n",
        "print(mensaje1)\n"
      ],
      "metadata": {
        "colab": {
          "base_uri": "https://localhost:8080/"
        },
        "id": "AWHsvncDkVkk",
        "outputId": "e4dce00d-5cba-42a5-8c49-b41d7a9a95b4"
      },
      "execution_count": null,
      "outputs": [
        {
          "output_type": "stream",
          "name": "stdout",
          "text": [
            "Esto es una prueba de capitalize\n"
          ]
        }
      ]
    },
    {
      "cell_type": "code",
      "source": [
        "mensaje2= 'otra Prueba de capitalize'.capitalize()\n",
        "print(mensaje2)\n"
      ],
      "metadata": {
        "colab": {
          "base_uri": "https://localhost:8080/"
        },
        "id": "EeDMOQcWk4_K",
        "outputId": "4cc01bfb-fe56-46b9-e832-ab771ba569ec"
      },
      "execution_count": null,
      "outputs": [
        {
          "output_type": "stream",
          "name": "stdout",
          "text": [
            "Otra prueba de capitalize\n"
          ]
        }
      ]
    },
    {
      "cell_type": "code",
      "source": [
        "mensaje3 = 'Tercera y Última prueba de capitalize'\n",
        "print(mensaje3.capitalize())"
      ],
      "metadata": {
        "colab": {
          "base_uri": "https://localhost:8080/"
        },
        "id": "_Juftu1FlIw_",
        "outputId": "35c3c13b-e711-4245-d775-2cd0bd245a4b"
      },
      "execution_count": null,
      "outputs": [
        {
          "output_type": "stream",
          "name": "stdout",
          "text": [
            "Tercera y última prueba de capitalize\n"
          ]
        }
      ]
    },
    {
      "cell_type": "code",
      "source": [
        "#lower, upper, tittle, swapcase\n",
        "\n",
        "texto = input(\"Introduzca un texto: \")\n",
        "\n",
        "print(\"Aplicando lower() al texto: \",texto.lower())\n",
        "print(\"Aplicando upper() al texto: \",texto.upper())\n",
        "print(\"Aplicando title() al texto: \",texto.title())\n",
        "print(\"Aplicando capitalize() al texto: \",texto.capitalize())\n",
        "print(\"Aplicando swapcase() al texto: \",texto.swapcase())"
      ],
      "metadata": {
        "colab": {
          "base_uri": "https://localhost:8080/"
        },
        "id": "7JUfpSkKlvXG",
        "outputId": "e6bde5e0-4555-4cc9-f2b4-4cb4b6024445"
      },
      "execution_count": null,
      "outputs": [
        {
          "output_type": "stream",
          "name": "stdout",
          "text": [
            "Introduzca un texto: miguel angel\n",
            "Aplicando lower() al texto:  miguel angel\n",
            "Aplicando upper() al texto:  MIGUEL ANGEL\n",
            "Aplicando title() al texto:  Miguel Angel\n",
            "Aplicando capitalize() al texto:  Miguel angel\n",
            "Aplicando swapcase() al texto:  MIGUEL ANGEL\n"
          ]
        }
      ]
    },
    {
      "cell_type": "code",
      "source": [
        "palabra= input(\"Introduzca la frase: \")\n",
        "print(\"No, de Palabras\",palabra.count(palabra))\n",
        "print(\"No, de Caracteres\",len(palabra))"
      ],
      "metadata": {
        "colab": {
          "base_uri": "https://localhost:8080/"
        },
        "id": "k8gfnHbgo8Wn",
        "outputId": "0115017e-6d85-4835-d381-1853bc99e757"
      },
      "execution_count": null,
      "outputs": [
        {
          "output_type": "stream",
          "name": "stdout",
          "text": [
            "Introduzca la frase: miguel angel\n",
            "No, de Palabras 1\n",
            "No, de Caracteres 12\n"
          ]
        }
      ]
    },
    {
      "cell_type": "code",
      "source": [
        "#Contar apariciones de subcadena en cadena\n",
        "\n",
        "texto =input(\"Introduzca la frase: \")\n",
        "palabra =input(\"Introduzca la letra o palabra para obetener el n2 de veces que aparece: \")\n",
        "numVecesAparacion = texto.count(palabra)\n",
        "if numVecesAparacion > 1:\n",
        "  print('La palabra/letra\"{}\" aparece {} vez '.format(palabra, numVecesAparacion))\n",
        "elif numVecesAparacion == 1:\n",
        "  print('La palabra/letra \"{}\" no aparece en el texto'.format(palabra, numVecesAparacion))\n",
        "else:\n",
        "  print('La palabra/letra \"{}\" no aparece en el texto'.format(palabra))"
      ],
      "metadata": {
        "colab": {
          "base_uri": "https://localhost:8080/"
        },
        "id": "wJ-xZb0-phhQ",
        "outputId": "2c730641-f09a-4c47-b8ff-d8ee541ca2f7"
      },
      "execution_count": null,
      "outputs": [
        {
          "output_type": "stream",
          "name": "stdout",
          "text": [
            "Introduzca la frase: menciono que no puede\n",
            "Introduzca la letra o palabra para obetener el n2 de veces que aparece: o\n",
            "La palabra/letra\"o\" aparece 3 vez \n"
          ]
        }
      ]
    }
  ]
}